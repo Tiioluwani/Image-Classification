{
 "cells": [
  {
   "cell_type": "code",
   "execution_count": 36,
   "id": "7f22467c-e3c5-4ba3-8ef6-d8aa71dd6d10",
   "metadata": {},
   "outputs": [],
   "source": [
    "# importing all necessary libraries\n",
    "\n",
    "\n",
    "from tensorflow.keras.preprocessing.image import ImageDataGenerator\n",
    "from sklearn.model_selection import train_test_split\n",
    "import os, numpy as np\n",
    "from PIL import Image\n",
    "from tensorflow.keras.models import Sequential\n",
    "from tensorflow.keras.layers import Conv2D, MaxPooling2D, Flatten, Dense\n",
    "\n",
    "\n",
    "from sklearn.metrics import classification_report, confusion_matrix\n",
    "import seaborn as sns\n",
    "import matplotlib.pyplot as plt"
   ]
  },
  {
   "cell_type": "code",
   "execution_count": 12,
   "id": "76210f2d-4cab-4179-9bb5-c2bdadb5f0ec",
   "metadata": {},
   "outputs": [],
   "source": [
    "# Parameters\n",
    "IMG_SIZE = (64, 64)\n",
    "CLASSES = ['forest', 'mountain', 'street']"
   ]
  },
  {
   "cell_type": "code",
   "execution_count": 14,
   "id": "a01b1685-4d33-4c2f-a1ac-51fab2b29af5",
   "metadata": {},
   "outputs": [],
   "source": [
    "# Load images\n",
    "def load_data(data_dir, classes, img_size):\n",
    "    images, labels = [], []\n",
    "    for label, cls in enumerate(classes):\n",
    "        path = os.path.join(data_dir, cls)\n",
    "        for file in os.listdir(path):\n",
    "            img = Image.open(os.path.join(path, file)).resize(img_size)\n",
    "            images.append(np.array(img))\n",
    "            labels.append(label)\n",
    "    return np.array(images), np.array(labels)\n",
    "\n",
    "X, y = load_data('seg_train', CLASSES, IMG_SIZE)"
   ]
  },
  {
   "cell_type": "code",
   "execution_count": 16,
   "id": "78576d5b-e19e-4c8f-9234-1973767083d8",
   "metadata": {},
   "outputs": [],
   "source": [
    "# Normalize pixel values\n",
    "X = X / 255.0"
   ]
  },
  {
   "cell_type": "code",
   "execution_count": 18,
   "id": "dbc66286-9498-490a-b43b-ac01304a1aea",
   "metadata": {},
   "outputs": [],
   "source": [
    "# Train-test split\n",
    "X_train, X_test, y_train, y_test = train_test_split(X, y, stratify=y, test_size=0.2, random_state=42)"
   ]
  },
  {
   "cell_type": "code",
   "execution_count": 24,
   "id": "0839eb5f-c9b7-4bc6-8c6b-ea6ec83478e2",
   "metadata": {},
   "outputs": [
    {
     "name": "stderr",
     "output_type": "stream",
     "text": [
      "/opt/anaconda3/lib/python3.12/site-packages/keras/src/layers/convolutional/base_conv.py:107: UserWarning: Do not pass an `input_shape`/`input_dim` argument to a layer. When using Sequential models, prefer using an `Input(shape)` object as the first layer in the model instead.\n",
      "  super().__init__(activity_regularizer=activity_regularizer, **kwargs)\n"
     ]
    },
    {
     "name": "stdout",
     "output_type": "stream",
     "text": [
      "Epoch 1/10\n",
      "\u001b[1m180/180\u001b[0m \u001b[32m━━━━━━━━━━━━━━━━━━━━\u001b[0m\u001b[37m\u001b[0m \u001b[1m18s\u001b[0m 89ms/step - accuracy: 0.7092 - loss: 0.6429 - val_accuracy: 0.8828 - val_loss: 0.3142\n",
      "Epoch 2/10\n",
      "\u001b[1m180/180\u001b[0m \u001b[32m━━━━━━━━━━━━━━━━━━━━\u001b[0m\u001b[37m\u001b[0m \u001b[1m17s\u001b[0m 92ms/step - accuracy: 0.9105 - loss: 0.2492 - val_accuracy: 0.9051 - val_loss: 0.2600\n",
      "Epoch 3/10\n",
      "\u001b[1m180/180\u001b[0m \u001b[32m━━━━━━━━━━━━━━━━━━━━\u001b[0m\u001b[37m\u001b[0m \u001b[1m16s\u001b[0m 89ms/step - accuracy: 0.9244 - loss: 0.2086 - val_accuracy: 0.9163 - val_loss: 0.2373\n",
      "Epoch 4/10\n",
      "\u001b[1m180/180\u001b[0m \u001b[32m━━━━━━━━━━━━━━━━━━━━\u001b[0m\u001b[37m\u001b[0m \u001b[1m19s\u001b[0m 103ms/step - accuracy: 0.9409 - loss: 0.1653 - val_accuracy: 0.9253 - val_loss: 0.2264\n",
      "Epoch 5/10\n",
      "\u001b[1m180/180\u001b[0m \u001b[32m━━━━━━━━━━━━━━━━━━━━\u001b[0m\u001b[37m\u001b[0m \u001b[1m18s\u001b[0m 100ms/step - accuracy: 0.9544 - loss: 0.1336 - val_accuracy: 0.9309 - val_loss: 0.2031\n",
      "Epoch 6/10\n",
      "\u001b[1m180/180\u001b[0m \u001b[32m━━━━━━━━━━━━━━━━━━━━\u001b[0m\u001b[37m\u001b[0m \u001b[1m18s\u001b[0m 102ms/step - accuracy: 0.9746 - loss: 0.0882 - val_accuracy: 0.9316 - val_loss: 0.2153\n",
      "Epoch 7/10\n",
      "\u001b[1m180/180\u001b[0m \u001b[32m━━━━━━━━━━━━━━━━━━━━\u001b[0m\u001b[37m\u001b[0m \u001b[1m22s\u001b[0m 120ms/step - accuracy: 0.9804 - loss: 0.0646 - val_accuracy: 0.9288 - val_loss: 0.2426\n",
      "Epoch 8/10\n",
      "\u001b[1m180/180\u001b[0m \u001b[32m━━━━━━━━━━━━━━━━━━━━\u001b[0m\u001b[37m\u001b[0m \u001b[1m22s\u001b[0m 120ms/step - accuracy: 0.9847 - loss: 0.0559 - val_accuracy: 0.9372 - val_loss: 0.2485\n",
      "Epoch 9/10\n",
      "\u001b[1m180/180\u001b[0m \u001b[32m━━━━━━━━━━━━━━━━━━━━\u001b[0m\u001b[37m\u001b[0m \u001b[1m44s\u001b[0m 135ms/step - accuracy: 0.9930 - loss: 0.0286 - val_accuracy: 0.9386 - val_loss: 0.2504\n",
      "Epoch 10/10\n",
      "\u001b[1m180/180\u001b[0m \u001b[32m━━━━━━━━━━━━━━━━━━━━\u001b[0m\u001b[37m\u001b[0m \u001b[1m31s\u001b[0m 170ms/step - accuracy: 0.9908 - loss: 0.0294 - val_accuracy: 0.9051 - val_loss: 0.3990\n"
     ]
    },
    {
     "data": {
      "text/plain": [
       "<keras.src.callbacks.history.History at 0x13bbe88c0>"
      ]
     },
     "execution_count": 24,
     "metadata": {},
     "output_type": "execute_result"
    }
   ],
   "source": [
    "# model building using CNN\n",
    "model = Sequential([\n",
    "    Conv2D(32, (3, 3), activation='relu', input_shape=(64, 64, 3)),\n",
    "    MaxPooling2D(),\n",
    "    Conv2D(64, (3, 3), activation='relu'),\n",
    "    MaxPooling2D(),\n",
    "    Flatten(),\n",
    "    Dense(128, activation='relu'),\n",
    "    Dense(3, activation='softmax')\n",
    "])\n",
    "model.compile(optimizer='adam', loss='sparse_categorical_crossentropy', metrics=['accuracy'])\n",
    "model.fit(X_train, y_train, epochs=10, validation_data=(X_test, y_test))"
   ]
  },
  {
   "cell_type": "code",
   "execution_count": 28,
   "id": "9d520815-aa88-4450-baeb-3c3379c2992b",
   "metadata": {},
   "outputs": [
    {
     "name": "stdout",
     "output_type": "stream",
     "text": [
      "\u001b[1m45/45\u001b[0m \u001b[32m━━━━━━━━━━━━━━━━━━━━\u001b[0m\u001b[37m\u001b[0m \u001b[1m2s\u001b[0m 33ms/step - accuracy: 0.8988 - loss: 0.4247\n",
      "Test Accuracy: 90.51%\n"
     ]
    }
   ],
   "source": [
    " # Evaluate on test set\n",
    "test_loss, test_accuracy = model.evaluate(X_test, y_test, verbose=1)\n",
    "print(f\"Test Accuracy: {test_accuracy * 100:.2f}%\")"
   ]
  },
  {
   "cell_type": "code",
   "execution_count": 30,
   "id": "7518f713-a1e6-44a0-98b5-d67ea2e74c1e",
   "metadata": {},
   "outputs": [
    {
     "name": "stdout",
     "output_type": "stream",
     "text": [
      "\u001b[1m45/45\u001b[0m \u001b[32m━━━━━━━━━━━━━━━━━━━━\u001b[0m\u001b[37m\u001b[0m \u001b[1m1s\u001b[0m 30ms/step\n",
      "              precision    recall  f1-score   support\n",
      "\n",
      "      forest       0.94      0.92      0.93       454\n",
      "    mountain       0.85      1.00      0.92       503\n",
      "      street       0.94      0.79      0.86       476\n",
      "\n",
      "    accuracy                           0.91      1433\n",
      "   macro avg       0.91      0.90      0.90      1433\n",
      "weighted avg       0.91      0.91      0.90      1433\n",
      "\n"
     ]
    }
   ],
   "source": [
    "# Classification report\n",
    "from sklearn.metrics import classification_report\n",
    "y_pred = model.predict(X_test).argmax(axis=1)\n",
    "print(classification_report(y_test, y_pred, target_names=CLASSES))"
   ]
  },
  {
   "cell_type": "code",
   "execution_count": 38,
   "id": "ffc1dfea-bab8-4bd5-8552-104470801e38",
   "metadata": {},
   "outputs": [],
   "source": [
    "# Save metrics\n",
    "with open(\"metrics.json\", \"w\") as f:\n",
    "    json.dump({\"test_accuracy\": test_accuracy}, f)\n",
    "    "
   ]
  },
  {
   "cell_type": "code",
   "execution_count": 40,
   "id": "0faea1cf-977c-4145-b3a8-4e2dbefe8678",
   "metadata": {},
   "outputs": [
    {
     "name": "stderr",
     "output_type": "stream",
     "text": [
      "WARNING:absl:You are saving your model as an HDF5 file via `model.save()` or `keras.saving.save_model(model)`. This file format is considered legacy. We recommend using instead the native Keras format, e.g. `model.save('my_model.keras')` or `keras.saving.save_model(model, 'my_model.keras')`. \n"
     ]
    }
   ],
   "source": [
    "# Save model\n",
    "model.save(\"model.h5\")"
   ]
  },
  {
   "cell_type": "code",
   "execution_count": null,
   "id": "173a56bb-3763-4610-9c2c-e869c75309d2",
   "metadata": {},
   "outputs": [],
   "source": []
  },
  {
   "cell_type": "code",
   "execution_count": null,
   "id": "94819195-74dc-41ce-8152-f967af613f94",
   "metadata": {},
   "outputs": [],
   "source": []
  },
  {
   "cell_type": "code",
   "execution_count": null,
   "id": "4ebf05b0-5db2-4648-aa37-329606268197",
   "metadata": {},
   "outputs": [],
   "source": []
  },
  {
   "cell_type": "code",
   "execution_count": null,
   "id": "c61b3cde-14a4-4ce6-808d-f478c7f67166",
   "metadata": {},
   "outputs": [],
   "source": []
  }
 ],
 "metadata": {
  "kernelspec": {
   "display_name": "Python 3 (ipykernel)",
   "language": "python",
   "name": "python3"
  },
  "language_info": {
   "codemirror_mode": {
    "name": "ipython",
    "version": 3
   },
   "file_extension": ".py",
   "mimetype": "text/x-python",
   "name": "python",
   "nbconvert_exporter": "python",
   "pygments_lexer": "ipython3",
   "version": "3.12.4"
  }
 },
 "nbformat": 4,
 "nbformat_minor": 5
}
